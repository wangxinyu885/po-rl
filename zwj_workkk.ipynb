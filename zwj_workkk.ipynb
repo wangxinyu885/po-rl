{
 "cells": [
  {
   "cell_type": "code",
   "execution_count": 1,
   "metadata": {},
   "outputs": [],
   "source": [
    "import matplotlib.pyplot as plt\n",
    "def plot_reward(x,y,title = \"\"):\n",
    "    plt.figure()\n",
    "    # 使用 Matplotlib 绘制折线图\n",
    "    plt.plot(x, y)\n",
    "    # 添加标题和标签\n",
    "    plt.title(title)\n",
    "    plt.xlabel(\"iter\")\n",
    "    plt.ylabel(\"reward\")\n",
    "    # 显示图形\n",
    "    plt.show()\n"
   ]
  },
  {
   "cell_type": "markdown",
   "metadata": {},
   "source": [
    "搭建14节点电网环境"
   ]
  },
  {
   "cell_type": "code",
   "execution_count": 2,
   "metadata": {},
   "outputs": [
    {
     "name": "stderr",
     "output_type": "stream",
     "text": [
      "D:\\电网项目\\poweroutagerl-main\\Grid2OpOld\\grid2op\\Backend\\pandaPowerBackend.py:30: UserWarning: Numba cannot be loaded. You will gain possibly massive speed if installing it by \n",
      "\td:\\conda-envs\\po-marl\\python.exe -m pip install numba\n",
      "\n",
      "  warnings.warn(\n",
      "D:\\电网项目\\poweroutagerl-main\\Grid2OpOld\\grid2op\\MakeEnv\\Make.py:462: UserWarning: It is the first time you use the environment \"l2rpn_case14_sandbox\".\n",
      "We will attempt to download this environment from remote\n",
      "  warnings.warn(_MAKE_FIRST_TIME_WARN.format(dataset_name))\n",
      "D:\\电网项目\\poweroutagerl-main\\Grid2OpOld\\grid2op\\MakeEnv\\Make.py:162: UserWarning: Exception in getting an answer from \"https://api.github.com/repos/bdonnot/grid2op-datasets/contents/datasets.json\".\n",
      "Retrying... 9 attempt(s) remaining\n",
      "  warnings.warn(_REQUEST_EXCEPT_RETRY_ERR.format(url, nb_retry - 1))\n",
      "D:\\电网项目\\poweroutagerl-main\\Grid2OpOld\\grid2op\\MakeEnv\\Make.py:162: UserWarning: Exception in getting an answer from \"https://api.github.com/repos/bdonnot/grid2op-datasets/contents/datasets.json\".\n",
      "Retrying... 8 attempt(s) remaining\n",
      "  warnings.warn(_REQUEST_EXCEPT_RETRY_ERR.format(url, nb_retry - 1))\n",
      "D:\\电网项目\\poweroutagerl-main\\Grid2OpOld\\grid2op\\MakeEnv\\Make.py:162: UserWarning: Exception in getting an answer from \"https://api.github.com/repos/bdonnot/grid2op-datasets/contents/datasets.json\".\n",
      "Retrying... 7 attempt(s) remaining\n",
      "  warnings.warn(_REQUEST_EXCEPT_RETRY_ERR.format(url, nb_retry - 1))\n",
      "D:\\电网项目\\poweroutagerl-main\\Grid2OpOld\\grid2op\\MakeEnv\\Make.py:162: UserWarning: Exception in getting an answer from \"https://api.github.com/repos/bdonnot/grid2op-datasets/contents/datasets.json\".\n",
      "Retrying... 6 attempt(s) remaining\n",
      "  warnings.warn(_REQUEST_EXCEPT_RETRY_ERR.format(url, nb_retry - 1))\n",
      "D:\\电网项目\\poweroutagerl-main\\Grid2OpOld\\grid2op\\MakeEnv\\Make.py:162: UserWarning: Exception in getting an answer from \"https://api.github.com/repos/bdonnot/grid2op-datasets/contents/datasets.json\".\n",
      "Retrying... 5 attempt(s) remaining\n",
      "  warnings.warn(_REQUEST_EXCEPT_RETRY_ERR.format(url, nb_retry - 1))\n",
      "D:\\电网项目\\poweroutagerl-main\\Grid2OpOld\\grid2op\\MakeEnv\\Make.py:162: UserWarning: Exception in getting an answer from \"https://api.github.com/repos/bdonnot/grid2op-datasets/contents/datasets.json\".\n",
      "Retrying... 4 attempt(s) remaining\n",
      "  warnings.warn(_REQUEST_EXCEPT_RETRY_ERR.format(url, nb_retry - 1))\n",
      "D:\\电网项目\\poweroutagerl-main\\Grid2OpOld\\grid2op\\MakeEnv\\Make.py:162: UserWarning: Exception in getting an answer from \"https://api.github.com/repos/bdonnot/grid2op-datasets/contents/datasets.json\".\n",
      "Retrying... 3 attempt(s) remaining\n",
      "  warnings.warn(_REQUEST_EXCEPT_RETRY_ERR.format(url, nb_retry - 1))\n"
     ]
    },
    {
     "name": "stdout",
     "output_type": "stream",
     "text": [
      "downloading the training data, this may take a while.\n"
     ]
    },
    {
     "name": "stderr",
     "output_type": "stream",
     "text": [
      "l2rpn_case14_sandbox.tar.bz2: 294MB [45:17, 108kB/s]                                \n"
     ]
    },
    {
     "name": "stdout",
     "output_type": "stream",
     "text": [
      "Extract the tar archive in \"C:\\Users\\wang\\data_grid2op\"\n"
     ]
    },
    {
     "name": "stderr",
     "output_type": "stream",
     "text": [
      "D:\\电网项目\\poweroutagerl-main\\Grid2OpOld\\grid2op\\MakeEnv\\Make.py:162: UserWarning: Exception in getting an answer from \"https://raw.githubusercontent.com/BDonnot/grid2op-datasets/master/updates/l2rpn_case14_sandbox_config.py\".\n",
      "Retrying... 9 attempt(s) remaining\n",
      "  warnings.warn(_REQUEST_EXCEPT_RETRY_ERR.format(url, nb_retry - 1))\n"
     ]
    },
    {
     "name": "stdout",
     "output_type": "stream",
     "text": [
      "\t Successfully updated file \"config.py\" for environment \"l2rpn_case14_sandbox\"\n",
      "\t Successfully updated file \"grid.json\" for environment \"l2rpn_case14_sandbox\"\n",
      "You may now use the environment \"l2rpn_case14_sandbox\" with the available data by invoking:\n",
      "\tenv = grid2op.make(\"l2rpn_case14_sandbox\")\n"
     ]
    }
   ],
   "source": [
    "from Grid2OpOld.grid2op.gym_compat import GymEnv\n",
    "from gymnasium import Env\n",
    "from gymnasium.utils.env_checker import check_env\n",
    "import Grid2OpOld.grid2op \n",
    "from Grid2OpOld.grid2op.Reward import FlatReward,LinesCapacityReward\n",
    "import numpy as np\n",
    "from Grid2OpOld.grid2op.Chronics import FromNPY\n",
    "from lightsim2grid import LightSimBackend  # highly recommended !\n",
    "from Grid2OpOld.grid2op.Chronics import MultifolderWithCache  # highly recommended for training\n",
    "from Grid2OpOld.grid2op.Backend import PandaPowerBackend,Backend\n",
    "from Grid2OpOld.grid2op.Action import BaseAction\n",
    "import re\n",
    "\n",
    "\n",
    "backend = PandaPowerBackend()\n",
    "#env = grid2op.make(\"l2rpn_wcci_2022\", reward_class=RedispReward)\n",
    "import networkx as nx\n",
    "\n",
    "\n",
    "env_name = \"l2rpn_case14_sandbox\"\n",
    "\n",
    "# env = Grid2OpOld.grid2op.make(env_name,\n",
    "#                    reward_class=FlatReward,\n",
    "#                    backend=backend,\n",
    "#                    chronics_class=MultifolderWithCache)\n",
    "\n",
    "\n",
    "env = Grid2OpOld.grid2op.make(env_name,\n",
    "                   reward_class=LinesCapacityReward,\n",
    "                   backend=backend,\n",
    "                   action_class=BaseAction,\n",
    "                   test=False)\n",
    "env.chronics_handler.real_data.set_filter(lambda x: re.match(\".*0$\", x) is not None)\n",
    "env.chronics_handler.real_data.reset()\n",
    "\n",
    "# param = env.parameters\n",
    "# param.MAX_LINE_STATUS_CHANGED = 100\n",
    "# param.ENV_DC = True\n",
    "# param.NO_OVERFLOW_DISCONNECTION = False\n",
    "# param.NB_TIMESTEP_OVERFLOW_ALLOWED = 1\n",
    "# env.change_parameters(param)\n",
    "# env.seed(0)\n",
    "\n",
    "# print(f\"before:{len(env.initial_outages)}\")\n",
    "gym_env = GymEnv(env)\n",
    "\n"
   ]
  },
  {
   "cell_type": "code",
   "execution_count": 3,
   "metadata": {},
   "outputs": [
    {
     "data": {
      "text/html": [
       "<div>\n",
       "<style scoped>\n",
       "    .dataframe tbody tr th:only-of-type {\n",
       "        vertical-align: middle;\n",
       "    }\n",
       "\n",
       "    .dataframe tbody tr th {\n",
       "        vertical-align: top;\n",
       "    }\n",
       "\n",
       "    .dataframe thead th {\n",
       "        text-align: right;\n",
       "    }\n",
       "</style>\n",
       "<table border=\"1\" class=\"dataframe\">\n",
       "  <thead>\n",
       "    <tr style=\"text-align: right;\">\n",
       "      <th></th>\n",
       "      <th>p_mw</th>\n",
       "      <th>q_mvar</th>\n",
       "      <th>va_degree</th>\n",
       "      <th>vm_pu</th>\n",
       "    </tr>\n",
       "  </thead>\n",
       "  <tbody>\n",
       "    <tr>\n",
       "      <th>0</th>\n",
       "      <td>71.748769</td>\n",
       "      <td>18.614404</td>\n",
       "      <td>-1.411341</td>\n",
       "      <td>1.02971</td>\n",
       "    </tr>\n",
       "    <tr>\n",
       "      <th>1</th>\n",
       "      <td>70.278507</td>\n",
       "      <td>75.096532</td>\n",
       "      <td>-4.329668</td>\n",
       "      <td>1.02971</td>\n",
       "    </tr>\n",
       "    <tr>\n",
       "      <th>2</th>\n",
       "      <td>35.678352</td>\n",
       "      <td>21.516815</td>\n",
       "      <td>-6.358695</td>\n",
       "      <td>1.10000</td>\n",
       "    </tr>\n",
       "    <tr>\n",
       "      <th>3</th>\n",
       "      <td>0.000000</td>\n",
       "      <td>21.516815</td>\n",
       "      <td>-6.358695</td>\n",
       "      <td>1.10000</td>\n",
       "    </tr>\n",
       "    <tr>\n",
       "      <th>4</th>\n",
       "      <td>0.000000</td>\n",
       "      <td>24.402716</td>\n",
       "      <td>-7.007833</td>\n",
       "      <td>1.10000</td>\n",
       "    </tr>\n",
       "    <tr>\n",
       "      <th>5</th>\n",
       "      <td>73.111624</td>\n",
       "      <td>-17.183824</td>\n",
       "      <td>0.000000</td>\n",
       "      <td>1.02971</td>\n",
       "    </tr>\n",
       "  </tbody>\n",
       "</table>\n",
       "</div>"
      ],
      "text/plain": [
       "        p_mw     q_mvar  va_degree    vm_pu\n",
       "0  71.748769  18.614404  -1.411341  1.02971\n",
       "1  70.278507  75.096532  -4.329668  1.02971\n",
       "2  35.678352  21.516815  -6.358695  1.10000\n",
       "3   0.000000  21.516815  -6.358695  1.10000\n",
       "4   0.000000  24.402716  -7.007833  1.10000\n",
       "5  73.111624 -17.183824   0.000000  1.02971"
      ]
     },
     "execution_count": 3,
     "metadata": {},
     "output_type": "execute_result"
    }
   ],
   "source": [
    "# env.backend.generators_ 999o()\n",
    "env.backend.cst_1 * env.backend._grid.res_gen[\"p_mw\"]\n",
    "env.backend._grid.res_gen\n",
    "\n",
    "# p_mw（有功功率）\n",
    "# 用途：\n",
    "# 发电控制：有功功率是电力系统中实际提供给负载的功率。电力公司通过调度发电机的输出功率来确保满足负载需求。\n",
    "# 能量平衡：有功功率平衡是指系统中的总发电量应等于总负载加上损耗。保持这种平衡对系统的稳定运行至关重要。\n",
    "# 经济调度：有功功率的优化调度可以降低发电成本。通过经济调度算法，决定不同发电机的出力，以实现成本最小化。\n",
    "# q_mvar（无功功率）\n",
    "# 用途：\n",
    "# 电压控制：无功功率与电压水平直接相关。通过调节无功功率，可以控制节点电压，从而维持电网的电压稳定。\n",
    "# 无功补偿：在负载中心或长输电线路末端提供无功补偿，以减少电压降和损耗。无功补偿设备包括电容器和电抗器。\n",
    "# 提高功率因数：改善电力系统的功率因数，从而提高电能质量和传输效率。\n",
    "# va_degree（电压相角）\n",
    "# 用途：\n",
    "# 潮流计算：电压相角用于计算系统中的潮流（功率流动），通过潮流分析确定电网的功率分布和电压水平。\n",
    "# 稳定性分析：电压相角差异过大会引发电力系统不稳定，通过监控相角变化，可以预防稳定性问题。\n",
    "# 同步操作：发电机和电网的同步操作要求相角匹配，确保发电机能稳定并入电网。\n",
    "# vm_pu（电压幅值）\n",
    "# 用途：\n",
    "# 电压控制：节点电压幅值反映了系统的电压水平，监控和控制节点电压是确保电能质量和设备安全的重要手段。\n",
    "# 电压调节：通过调整变压器分接头或使用电压调节设备，维持电压在规定范围内。\n",
    "# 负荷调节：高压电下传输功率损耗低，确保电压幅值在适当范围内有助于降低线路损耗，提高系统效率。\n"
   ]
  },
  {
   "cell_type": "code",
   "execution_count": 4,
   "metadata": {},
   "outputs": [
    {
     "name": "stdout",
     "output_type": "stream",
     "text": [
      "[74.18191  73.09535  21.632273  0.        0.       77.24997 ]\n",
      "[74.18191  73.09535  21.632273  0.        0.       77.24997 ]\n",
      "[21.  86.4 44.3  6.7 11.8 28.2  8.5  3.3  5.3 12.2 14.7]\n"
     ]
    },
    {
     "data": {
      "text/plain": [
       "20"
      ]
     },
     "execution_count": 4,
     "metadata": {},
     "output_type": "execute_result"
    }
   ],
   "source": [
    "from Grid2OpOld.grid2op.PlotGrid import PlotMatplot\n",
    "plothelper = PlotMatplot(env.observation_space)\n",
    "\n",
    "obs = env.reset()\n",
    "# _ = plothelper.plot_obs(obs)\n",
    "\n",
    "print(obs.prod_p)\n",
    "print(obs.gen_p)\n",
    "print(obs.load_p)\n",
    "\n",
    "\n",
    "\n",
    "obs.n_line\n",
    "# print(obs.gen_p)\n",
    "# linename = range(obs.n_line)\n",
    "# _ = plothelper.plot_ 999o(line_values=linename)"
   ]
  },
  {
   "cell_type": "code",
   "execution_count": 5,
   "metadata": {},
   "outputs": [
    {
     "data": {
      "text/plain": [
       "<bound method Environment._init_backend of <abc.Environment_l2rpn_case14_sandbox object at 0x00000131FC2AC130>>"
      ]
     },
     "execution_count": 5,
     "metadata": {},
     "output_type": "execute_result"
    }
   ],
   "source": [
    "gym_env.init_env._init_backend"
   ]
  },
  {
   "cell_type": "code",
   "execution_count": 6,
   "metadata": {},
   "outputs": [
    {
     "data": {
      "text/plain": [
       "array([0.33256006, 0.32430273, 0.28759375, 0.242264  , 0.71732897,\n",
       "       0.2060212 , 0.38382897, 0.5817054 , 0.4963214 , 0.7514613 ,\n",
       "       0.06017501, 0.32839727, 0.3266981 , 0.47051668, 0.43814   ,\n",
       "       0.48136926, 0.4580108 , 0.65482587, 0.4497529 , 0.4043147 ],\n",
       "      dtype=float32)"
      ]
     },
     "execution_count": 6,
     "metadata": {},
     "output_type": "execute_result"
    }
   ],
   "source": [
    "env.current_obs.rho\n"
   ]
  },
  {
   "cell_type": "code",
   "execution_count": 7,
   "metadata": {},
   "outputs": [
    {
     "data": {
      "text/plain": [
       "array([0.00420522, 0.00325097, 0.00265971, 0.00349283, 0.00273493,\n",
       "       0.00126052, 0.00337878, 0.00152522, 0.00090478, 0.00230801,\n",
       "       0.00015303, 0.00066846, 0.00112618, 0.00027675, 0.00112472,\n",
       "       0.00249925, 0.00116905, 0.00198775, 0.00224084, 0.00204086],\n",
       "      dtype=float32)"
      ]
     },
     "execution_count": 7,
     "metadata": {},
     "output_type": "execute_result"
    }
   ],
   "source": [
    "gym_env.init_env.current_obs.rho"
   ]
  },
  {
   "cell_type": "code",
   "execution_count": 15,
   "metadata": {},
   "outputs": [
    {
     "ename": "AttributeError",
     "evalue": "'Environment_l2rpn_case14_sandbox' object has no attribute 'initial_outages'",
     "output_type": "error",
     "traceback": [
      "\u001b[1;31m---------------------------------------------------------------------------\u001b[0m",
      "\u001b[1;31mAttributeError\u001b[0m                            Traceback (most recent call last)",
      "Cell \u001b[1;32mIn[15], line 1\u001b[0m\n\u001b[1;32m----> 1\u001b[0m \u001b[43mgym_env\u001b[49m\u001b[38;5;241;43m.\u001b[39;49m\u001b[43minit_env\u001b[49m\u001b[38;5;241;43m.\u001b[39;49m\u001b[43minitial_outages\u001b[49m\n",
      "\u001b[1;31mAttributeError\u001b[0m: 'Environment_l2rpn_case14_sandbox' object has no attribute 'initial_outages'"
     ]
    }
   ],
   "source": [
    "gym_env.init_env.initial_outages"
   ]
  },
  {
   "cell_type": "code",
   "execution_count": null,
   "metadata": {},
   "outputs": [],
   "source": [
    "# 设置动作空间\n",
    "\n",
    "# 'set_bus' dim_topo dimensions dimensions 'disconnect'-0,'dont affect'-1,'connect bus1'-2,'connect bus2'-2\n",
    "# 'set_line_status' n_line dimensions 'disconnect'-0,'dont affect'-1,'connect'-2,\n",
    "# change_bus change_line_status\n",
    "from Grid2OpOld.grid2op.gym_compat import MultiDiscreteActSpace\n",
    "# gym_env.action_space = MultiDiscreteActSpace(env.action_space,\n",
    "#                                         attr_to_keep=[\n",
    "#                                             \"set_line_status\",\n",
    "#                                             # \"change_line_status\",\n",
    "#                                             # \"change_bus\",\n",
    "#                                                     \"set_bus\" ,#断开的线不希望合上\n",
    "                                                    \n",
    "#                                                     # ,\"do_nothing\"\n",
    "#                                                     ])\n",
    "# #gym_env do nothing action是否传过来\n",
    "# print(gym_env.action_space)\n",
    "# print(gym_env.action_space.sample())\n",
    "# print(len(gym_env.action_space))\n",
    "\n",
    "\n",
    "\n",
    "# print(gym_env.observation_space.sample())\n",
    "\n",
    "from Grid2OpOld.grid2op.gym_compat import BoxGymObsSpace\n",
    "gym_env.observation_space = BoxGymObsSpace(env.observation_space\n",
    "                                           ,attr_to_keep=[\n",
    "                                               \"gen_p\",\n",
    "                                                \"load_p\",\n",
    "                                                \"line_status\",\n",
    "                                                \"rho\"\n",
    "                                                ])\n",
    "# \n",
    "\n",
    "print(gym_env.observation_space)\n",
    "# print(gym_env.observation_space.sample())\n",
    "\n",
    "\n"
   ]
  },
  {
   "cell_type": "code",
   "execution_count": null,
   "metadata": {},
   "outputs": [],
   "source": []
  },
  {
   "cell_type": "code",
   "execution_count": null,
   "metadata": {},
   "outputs": [],
   "source": [
    "gym_env.observation_space\n",
    "\n",
    "obs_attr_to_keep = [\"gen_p\",\"load_p\",\"line_status\", \"rho\",'year']\n",
    "\n",
    "front_dim = 0\n",
    "sorted_attr_to_keep = sorted(obs_attr_to_keep)\n",
    "for attr_name in sorted_attr_to_keep:\n",
    "  # 如果遇到\"set_line_status\"，则停止遍历\n",
    "    if attr_name == \"rho\":\n",
    "        break\n",
    " # 找到当前属性名称对应的dim值\n",
    "    dim_value = {\n",
    "        \"year\" :1, \"month\":1, \"day\": 1 ,\"hour_of_day\":1,  \"minute_of_hour\":1, \"day_of_week\":1,\"current_step\":1,\\\n",
    "         \"gen_p\":env.n_gen, \"gen_q\":env.n_gen, \"gen_v\":env.n_gen, \"gen_margin_up\":env.n_gen,\"gen_margin_down\":env.n_gen,\\\n",
    "         \"gen_theta\":env.n_gen,\"load_p\":env.n_load,\"load_q\":env.n_load,\"load_v\":env.n_load, \"load_theta\":env.n_load,\\\n",
    "         \"p_or\":env.n_line,\"q_or\":env.n_line,\"a_or\":env.n_line ,\"v_or\":env.n_line,\"theta_or\":env.n_line,\"p_ex\":env.n_line,\\\n",
    "         \"q_ex\":env.n_line,\"a_ex\":env.n_line ,\"v_ex\":env.n_line,\"theta_ex\":env.n_line,\"line_status\":env.n_line ,\\\n",
    "         \"timestep_overflow\": env.n_line,\"topo_vect\":env.dim_topo,\"time_before_cooldown_line\":env.n_line,\"time_before_cooldown_sub\":env.n_sub ,\\\n",
    "         \"time_next_maintenance\":env.n_line, \"duration_next_maintenance\":env.n_line,  \"target_dispatch\":env.n_gen, \"actual_dispatch\":env.n_gen,\\\n",
    "         \"storage_charge\":env.n_storage,\"storage_power_target\":env.n_storage,\"storage_power\": env.n_storage,\"storage_theta\":env.n_storage,\\\n",
    "         \"curtailment\": env.n_gen,\"curtailment_limit\":env.n_gen, \"curtailment_mw\":env.n_gen,\"curtailment_limit_mw\":env.n_gen,\\\n",
    "         \"thermal_limit\": env.n_line,\"is_alarm_illegal\":1,\"time_since_last_alarm\":1,\"last_alarm\":env.dim_alarms,\"attention_budget\":1,\\\n",
    "         \"was_alarm_used_after_game_over\":1,\"delta_time\":1, \"active_alert\":env.dim_alerts,\"time_since_last_alert\":env.dim_alarms,\\\n",
    "         \"alert_duration\": env.dim_alarms,\"time_since_last_attack\":env.dim_alarms,\"was_alert_used_after_attack\":env.dim_alarms,\\\n",
    "         \"attack_under_alert\":env.dim_alarms,\"max_step\":1,\"delta_time\":1,\"prod_p\":env.n_gen,\"prod_q\":env.n_gen,\"prod_v\":env.n_gen,\\\n",
    "         \"gen_p_before_curtail\":env.n_gen,\"curtailment_limit_effective\":env.n_gen\n",
    "        }.get(attr_name, 0)  # 默认为0\n",
    "    \n",
    "    # 累加dim值到total\n",
    "    front_dim += dim_value\n",
    "obss = [-162.01 ,-162.01 ,-162.01, -162.01, -162.01, -162.01  ,  0. ,     0.   ,   0.,\n",
    "        0.  ,    0. ,     0. ,     0.,      0. ,     0. ,     0. ,     0. ,     0.,\n",
    "        0.  ,    0. ,     0. ,     0.,      0. ,     0. ,     0. ,     0. ,     -999,\n",
    "      -999  ,  -999 ,   -999 ,   -999,    -999 ,   -999 ,   -999 ,   -999 ,   -999,\n",
    "      -999  ,  0.   ,   0.   ,   0.  ,    0.   ,   0.   ,   0.   ,   0.   ,   0.,\n",
    "        0.  ,    0. ,     0. ,     0.,      0. ,     0. ,     0. ,     0. ,     0.,\n",
    "        0.  ,    0. ,     0. , ]\n",
    "# print(obss)\n",
    "print(gym_env.observation_space)\n",
    "# print(obss[front_dim:front_dim+env.n_line])\n",
    "# front_dim+env.n_line\n"
   ]
  },
  {
   "cell_type": "code",
   "execution_count": null,
   "metadata": {},
   "outputs": [],
   "source": [
    "print(gym_env.action_space.__dict__)\n",
    "# print(gym_env.observation_space)"
   ]
  },
  {
   "cell_type": "code",
   "execution_count": null,
   "metadata": {},
   "outputs": [],
   "source": [
    "obs = env.reset()"
   ]
  },
  {
   "cell_type": "code",
   "execution_count": null,
   "metadata": {},
   "outputs": [],
   "source": [
    "from Grid2OpOld.grid2op.PlotGrid import PlotMatplot\n",
    "plothelper = PlotMatplot(env.observation_space)\n",
    "# obs = gym_env.reset()\n",
    "obs = env.reset()\n",
    "_ = plothelper.plot_obs(obs)\n",
    "\n",
    "linename = range(obs.n_line)\n",
    "_ = plothelper.plot_info(line_values=linename)\n",
    "# _ = plothelper.plot_obs(obs)\n",
    "\n",
    "import random\n",
    "random_number = 8#random.randint(0, 19)\n",
    "line_id_to_set = [random_number]\n",
    "new_status = [-1 for i in range(len(line_id_to_set)) ]\n",
    "act = env.action_space()\n",
    "act.line_set_status = [[l_id, status] for l_id, status in zip(line_id_to_set, new_status)]\n",
    "# print(act)\n",
    "\n",
    "obs, reward, done, info = env.step(act)\n",
    "# print(env._line_status)\n",
    "# _ = plothelper.plot_obs(obs)"
   ]
  },
  {
   "cell_type": "markdown",
   "metadata": {},
   "source": [
    "gym initial_outages 存在\n",
    "    nb_time_step =-1"
   ]
  },
  {
   "cell_type": "markdown",
   "metadata": {},
   "source": [
    "在基础环境中，self.outage_idx=1\n",
    "            self.initial_outages=[[0], [1], [2], [3], [4], [5], [6], [7], [8], [9], [10], [11], [12], [13], [14], [15], [16], [17], [18], [19], [0, 1], [0, 2], [0, 3], [0, 4], [2, 3], [2, 4], [3, 4], [2, 5], [3, 5], [3, 6], [3, 15], [3, 16], [5, 6], [5, 15], [5, 16], [6, 15], [6, 16], [15, 16], [1, 4], [1, 6], [1, 17], [4, 6], [4, 17], [6, 17], [17, 7], [17, 8], [17, 9], [7, 8], [7, 9], [8, 9], [15, 18], [15, 19], [18, 19], [16, 19], [16, 10], [16, 11], [19, 10], [19, 11], [10, 11], [10, 12], [7, 12], [8, 13], [9, 13], [9, 14], [13, 14], [11, 14]]\n",
    "            self.nb_time_step=-1\n",
    "\n",
    "            执行下一步时：nb_time_step + 1 = 0\n",
    "\n",
    "\n",
    "在新环境中, self.outage_idx=0\n",
    "            没有self.initial_outages\n",
    "            self.nb_time_step=-1\n"
   ]
  },
  {
   "cell_type": "markdown",
   "metadata": {},
   "source": [
    "Train"
   ]
  },
  {
   "cell_type": "code",
   "execution_count": null,
   "metadata": {},
   "outputs": [],
   "source": [
    "from stable_baselines3 import PPO\n",
    "nn_model = PPO(env=gym_env,\n",
    "               learning_rate=0.0001,\n",
    "               policy=\"MlpPolicy\",\n",
    "               policy_kwargs={\"net_arch\":[100,100,100]},# [256, 128,256]},\n",
    "               n_steps=256, #256,\n",
    "               batch_size=64,\n",
    "               verbose=False,\n",
    "               tensorboard_log='D:/jupyter/electric log'\n",
    "               )"
   ]
  },
  {
   "cell_type": "code",
   "execution_count": null,
   "metadata": {},
   "outputs": [],
   "source": [
    "\n",
    "nn_model.learn(total_timesteps = 100000,log_interval=1)"
   ]
  },
  {
   "cell_type": "markdown",
   "metadata": {},
   "source": [
    "#记录\n",
    "1）ppo55_1000 \n",
    "\n",
    "2）ppo56_10000\n",
    "\n",
    "3）ppo61_1000\n",
    "\n",
    "4）ppo68_1000（可）\n",
    "\n",
    "5)ppo131_CR_10000 在每次开始前断开一条线\n",
    "\n",
    "6) ppo227_CR_10000 gym initial\n",
    "\n",
    "为了让步数更少每走一步给-10奖励，如果有错误-100，如果is_done 给50奖励\n",
    "\n",
    "flatreward:per_step = -10 ; is done = 50 ; has_error = -100 "
   ]
  },
  {
   "cell_type": "code",
   "execution_count": null,
   "metadata": {},
   "outputs": [],
   "source": [
    "# 保存模型\n",
    "nn_model.save(\"ppo238_CR_10000\")\n"
   ]
  },
  {
   "cell_type": "code",
   "execution_count": null,
   "metadata": {},
   "outputs": [],
   "source": [
    "#加载模型\n",
    "nn_model = PPO.load(\"ppo131_CR_10000\")\n"
   ]
  },
  {
   "cell_type": "code",
   "execution_count": null,
   "metadata": {},
   "outputs": [],
   "source": [
    "from stable_baselines3.common.evaluation import evaluate_policy\n",
    "episode_rewards, episode_lengths = evaluate_policy(nn_model, gym_env, n_eval_episodes=10,\n",
    "                                          return_episode_rewards = True)\n",
    "#env.close()\n",
    "print(\"episode_rewards:\",episode_rewards,\"episode_lengths:\",episode_lengths)\n"
   ]
  },
  {
   "cell_type": "code",
   "execution_count": null,
   "metadata": {},
   "outputs": [],
   "source": [
    "from Grid2OpOld.grid2op.Agent import BaseAgent\n",
    "\n",
    "class MyPPOAgent(BaseAgent):\n",
    "    def __init__(self,\n",
    "                 action_space,  # grid2op action space\n",
    "                 used_trained_gym_env,  # gym env used for training\n",
    "                 trained_ppo_nnet,  # neural net after training\n",
    "                 ):\n",
    "        super().__init__(action_space)\n",
    "        self.nn_model = trained_ppo_nnet\n",
    "        self.gym_env = used_trained_gym_env\n",
    "    \n",
    "    def act(self, observation, reward, done=False):\n",
    "        gym_obs = self.gym_env.observation_space.to_gym(observation)\n",
    "        gym_act, _ = self.nn_model.predict(gym_obs, deterministic=True)\n",
    "        grid2op_act = self.gym_env.action_space.from_gym(gym_act)\n",
    "        return grid2op_act\n",
    "    \n",
    "my_agent = MyPPOAgent(env.action_space, gym_env, nn_model)\n",
    "my_agent.nn_model"
   ]
  },
  {
   "cell_type": "code",
   "execution_count": null,
   "metadata": {},
   "outputs": [],
   "source": []
  },
  {
   "cell_type": "markdown",
   "metadata": {},
   "source": [
    "evaluate"
   ]
  },
  {
   "cell_type": "code",
   "execution_count": null,
   "metadata": {},
   "outputs": [],
   "source": [
    "import shutil\n",
    "from tqdm.notebook import tqdm\n",
    "from Grid2OpOld.grid2op.Runner import Runner\n",
    "from Grid2OpOld.grid2op.Episode import EpisodeData\n",
    "\n",
    "save_path = \"saved_agent_PPO_{}\".format(100)\n",
    "path_save_results = \"{}_results\".format(save_path)\n",
    "shutil.rmtree(path_save_results, ignore_errors=True)\n",
    "\n",
    "test_runner = Runner(**env.get_params_for_runner(),\n",
    "                     agentInstance=my_agent, agentClass=None)\n",
    "res = test_runner.run(nb_episode=10,\n",
    "                      max_iter=10,\n",
    "                      pbar=tqdm,\n",
    "                      path_save=f\"./{path_save_results}\")"
   ]
  },
  {
   "cell_type": "code",
   "execution_count": null,
   "metadata": {},
   "outputs": [],
   "source": [
    "import os\n",
    "os.listdir(path_save_results)"
   ]
  },
  {
   "cell_type": "code",
   "execution_count": null,
   "metadata": {},
   "outputs": [],
   "source": [
    "EpisodeData.list_episode(path_save_results)"
   ]
  },
  {
   "cell_type": "code",
   "execution_count": null,
   "metadata": {},
   "outputs": [],
   "source": [
    "all_episodes = EpisodeData.list_episode(path_save_results)\n",
    "this_episode = EpisodeData.from_disk(*all_episodes[0])\n",
    "li_actions = this_episode.actions"
   ]
  },
  {
   "cell_type": "code",
   "execution_count": null,
   "metadata": {},
   "outputs": [],
   "source": [
    "line_disc = 0\n",
    "line_reco = 0\n",
    "for act in li_actions:\n",
    "    dict_ = act.as_dict()\n",
    "    if \"set_line_status\" in dict_:\n",
    "        line_reco +=  dict_[\"set_line_status\"][\"nb_connected\"]\n",
    "        line_disc +=  dict_[\"set_line_status\"][\"nb_disconnected\"]\n",
    "print(f'Total reconnected lines : {line_reco}')\n",
    "print(f'Total disconnected lines : {line_disc}')"
   ]
  },
  {
   "cell_type": "code",
   "execution_count": null,
   "metadata": {},
   "outputs": [],
   "source": [
    "# 累计断开的线路总数\n",
    "li_observations = this_episode.observations\n",
    "nb_real_disc = 0\n",
    "for obs_ in li_observations:\n",
    "    nb_real_disc += (obs_.line_status == False).sum()\n",
    "print(f'Total number of disconnected powerlines cumulated over all the timesteps : {nb_real_disc}')"
   ]
  },
  {
   "cell_type": "code",
   "execution_count": null,
   "metadata": {},
   "outputs": [],
   "source": [
    "#有效动作\n",
    "actions_count = {}\n",
    "for act in li_actions:\n",
    "    act_as_vect = tuple(act.to_vect())\n",
    "    if not act_as_vect in actions_count:\n",
    "        actions_count[act_as_vect] = 0\n",
    "    actions_count[act_as_vect] += 1\n",
    "print(\"The agent did {} different valid actions.\".format(len(actions_count)))"
   ]
  },
  {
   "cell_type": "code",
   "execution_count": null,
   "metadata": {},
   "outputs": [],
   "source": [
    "for act in li_actions:\n",
    "    print(act)"
   ]
  },
  {
   "cell_type": "markdown",
   "metadata": {},
   "source": [
    "inspect"
   ]
  },
  {
   "cell_type": "code",
   "execution_count": null,
   "metadata": {},
   "outputs": [],
   "source": [
    "# 检查危险和维护的数量\n",
    "nb_hazards = 0\n",
    "nb_maintenance = 0\n",
    "for act in this_episode.env_actions:\n",
    "    dict_ = act.as_dict() # representation of an action as a dictionnary, see the documentation for more information\n",
    "    if \"nb_hazards\" in dict_:\n",
    "        nb_hazards += 1\n",
    "    if \"nb_maintenance\" in dict_:\n",
    "        nb_maintenance += 1\n",
    "print(f'Total hazards : {nb_hazards}')\n",
    "print(f'Total maintenances : {nb_maintenance}')"
   ]
  },
  {
   "cell_type": "code",
   "execution_count": null,
   "metadata": {},
   "outputs": [],
   "source": [
    "# 查看load1的消耗\n",
    "import plotly.graph_objects as go\n",
    "load_id = 1\n",
    "# extract the data\n",
    "val_load1 = np.zeros(len(this_episode.observations))\n",
    "for i, obs in enumerate(this_episode.observations):\n",
    "    dict_ = obs.state_of(load_id=load_id) # which effect has this action action on the substation with id 1\n",
    "    # other objects are: load_id, gen_id, line_id or substation_id\n",
    "    # see the documentation for more information.\n",
    "    val_load1[i] = dict_['p']\n",
    "\n",
    "# plot it\n",
    "fig = go.Figure(data=[go.Scatter(x=[i for i in range(len(val_load1))],\n",
    "                                 y=val_load1)])\n",
    "fig.update_layout(title=\"Consumption of load {}\".format(load_id),\n",
    "                 xaxis_title=\"Time step\",\n",
    "                 yaxis_title=\"Load (MW)\")\n",
    "fig.show()"
   ]
  },
  {
   "cell_type": "code",
   "execution_count": null,
   "metadata": {},
   "outputs": [],
   "source": [
    "# 查看gen_2的发电量\n",
    "gen_id = 2\n",
    "# extract the data\n",
    "val_lgen3 = np.zeros(len(this_episode.observations))\n",
    "for i, obs in enumerate(this_episode.observations):\n",
    "    dict_ = obs.state_of(gen_id=gen_id) # which effect has this action action on the substation with id 1\n",
    "    # other objects are: load_id, gen_id, line_id or substation_id\n",
    "    # see the documentation for more information.\n",
    "    val_lgen3[i] = dict_['p']\n",
    "\n",
    "# plot it\n",
    "fig = go.Figure(data=[go.Scatter(x=[i for i in range(len(val_lgen3))],\n",
    "                                 y=val_lgen3)])\n",
    "fig.update_layout(title=\"Production of generator {}\".format(gen_id),\n",
    "                 xaxis_title=\"Time step\",\n",
    "                 yaxis_title=\"Production (MW)\")\n",
    "fig.show()"
   ]
  },
  {
   "cell_type": "code",
   "execution_count": null,
   "metadata": {},
   "outputs": [],
   "source": [
    "#bus3流向bus4的电流\n",
    "from_ = 3\n",
    "to_ = 4\n",
    "found_ids = this_episode.observations.helper.get_lines_id(from_=from_, to_=to_)\n",
    "line_id = found_ids[0]\n",
    "\n",
    "# extract the data\n",
    "val_l3_4 = np.zeros(len(this_episode.observations))\n",
    "for i, obs in enumerate(this_episode.observations):\n",
    "    dict_ = obs.state_of(line_id=line_id) # which effect has this action action on the substation with id 1\n",
    "    # other objects are: load_id, gen_id, line_id or substation_id\n",
    "    # see the documentation for more information.\n",
    "    val_l3_4[i] = dict_[\"origin\"]['a']\n",
    "\n",
    "# plot it\n",
    "fig = go.Figure(data=[go.Scatter(x=[i for i in range(len(val_l3_4))],\n",
    "                                 y=val_l3_4)])\n",
    "fig.update_layout(title=\"Flow on powerline {} (going from {} to {})\".format(line_id, from_, to_),\n",
    "                 xaxis_title=\"Time step\",\n",
    "                 yaxis_title=\"Production (MW)\")\n",
    "fig.show()"
   ]
  },
  {
   "cell_type": "code",
   "execution_count": null,
   "metadata": {},
   "outputs": [],
   "source": []
  },
  {
   "cell_type": "markdown",
   "metadata": {},
   "source": [
    "添加初始错误"
   ]
  },
  {
   "cell_type": "code",
   "execution_count": null,
   "metadata": {},
   "outputs": [],
   "source": [
    "# class cascade: \n",
    "# from Cascade import *\n",
    "import numpy as np\n",
    "import networkx as nx\n",
    "\n",
    "class Cascade:\n",
    "    def __init__(self):\n",
    "        self.generations = []        \n",
    "        self.currentgeneration = None\n",
    "        self.loadsheds = []\n",
    "        self.currentloadshed = None\n",
    "        \n",
    "    def addoutage(self, obs, initial = False):\n",
    "        if initial:\n",
    "            self.currentgeneration = np.where([not i for i in obs.line_status])[0]\n",
    "            \n",
    "            self.currentloadshed = sum(obs.load_p) - sum(obs.gen_p)\n",
    "            \n",
    "        else: \n",
    "            oldlineoutage =  sum(self.generations, [])\n",
    "            alllineoutage = np.where([not i for i in obs.line_status])[0]\n",
    "            self.currentgeneration = np.setdiff1d(alllineoutage, oldlineoutage)\n",
    "            \n",
    "            oldloadshed = sum(self.loadsheds)\n",
    "            allloadshed = sum(obs.load_p) - sum(obs.gen_p)\n",
    "            self.currentloadshed = allloadshed - oldloadshed  \n",
    "        \n",
    "        if len(self.currentgeneration) > 0:\n",
    "            self.generations.append(self.currentgeneration.tolist())\n",
    "            \n",
    "            if self.currentloadshed < 0.001: self.currentloadshed = 0 \n",
    "            self.loadsheds.append(self.currentloadshed)\n",
    "    \n",
    "    def __str__(self):\n",
    "        return f\"line outages: {self.generations}\" + \"\\n\" + \\\n",
    "               f\"loadsheds: {self.loadsheds}\"\n",
    "               \n",
    "    def propogate(self, obs, obsreset):\n",
    "        overload_line = np.where(obs.rho > 1)[0].tolist()\n",
    "        \n",
    "        # if an island is formed, disconnect all lines in this island, so grid2op will not stop the run (done variable is still false)\n",
    "        # NB: grid2op will stop when any generator is disconnect, even the generator has 0 output like PV at night. \n",
    "        \n",
    "        # topology before cascade\n",
    "        graph = obsreset.as_networkx()\n",
    "        graph = nx.Graph(graph)\n",
    "        \n",
    "        oldlineoutage = [j for sub in self.generations for j in sub] + overload_line  # it contains line id \n",
    "        \n",
    "        oldlineoutage1 = [] # use vertices to represent an edge with line id oldlineoutage\n",
    "        for j in oldlineoutage:\n",
    "            oldlineoutage1.append([int(i) for i in obsreset.name_line[j].split('_')][0:2])\n",
    "        # remove duplicates in oldlineoutage1\n",
    "        oldlineoutage1 = np.unique(oldlineoutage1, axis = 0).tolist()\n",
    "        \n",
    "        # remove outaged linesfor i in oldlineoutage1:\n",
    "        for i in oldlineoutage1:\n",
    "            graph.remove_edge(i[0],i[1])\n",
    "        \n",
    "        # if there forms islands, we disconnect all lines in small islands except the largest \n",
    "        # components, otherwise the environment of grid2op would judge the current state as a gameover.\n",
    "        if not nx.is_connected(graph): \n",
    "            largest_cc = max(nx.connected_components(graph), key=len) # largest component's nodes. \n",
    "            sub = graph.subgraph(largest_cc).copy() # largest component represented by a graph. \n",
    "        \n",
    "            todisconnect = set(list(graph.edges)) - set(list(sub.edges)) # lines' buses that are in small islands\n",
    "            # find lines' id that are in small islands\n",
    "            todisconnectid = []\n",
    "            for element in todisconnect:\n",
    "                for j in range(len(obs.name_line)):\n",
    "                    if [int(i) for i in obs.name_line[j].split('_')][0:2] == list(element):\n",
    "                        todisconnectid.append(j)\n",
    "                        break\n",
    "        \n",
    "            # disconnect overload lines and lines in small islands  \n",
    "            return overload_line + todisconnectid\n",
    "        return overload_line\n"
   ]
  },
  {
   "cell_type": "code",
   "execution_count": null,
   "metadata": {},
   "outputs": [],
   "source": [
    "class Initialoutages:\n",
    "    def __init__(self):\n",
    "        pass\n",
    "    def n1(self, obs):\n",
    "        init = np.arange(len(obs.name_line)).tolist()\n",
    "        return [[i] for i in init]\n",
    "    def nk(self, obs):\n",
    "        pass\n",
    "    "
   ]
  },
  {
   "cell_type": "code",
   "execution_count": null,
   "metadata": {},
   "outputs": [],
   "source": [
    "# get set of initial outages\n",
    "######################################\n",
    "initialoutages = Initialoutages()\n",
    "initials = initialoutages.n1(obs)\n",
    "initials"
   ]
  },
  {
   "cell_type": "code",
   "execution_count": null,
   "metadata": {},
   "outputs": [],
   "source": [
    "# initialize a cascade instance\n",
    "######################################\n",
    "cascades = []\n",
    "obsreset = env.reset() # the snapshot of the before-cascade state"
   ]
  },
  {
   "cell_type": "code",
   "execution_count": null,
   "metadata": {},
   "outputs": [],
   "source": []
  },
  {
   "cell_type": "markdown",
   "metadata": {},
   "source": [
    "我们是让故障不要传播太远，只关注初始故障后让系统快速稳定"
   ]
  },
  {
   "cell_type": "code",
   "execution_count": null,
   "metadata": {},
   "outputs": [],
   "source": [
    "# initialize hyperparameters\n",
    "######################################\n",
    "import Grid2OpOld.grid2op \n",
    "from Grid2OpOld.grid2op.Reward import FlatReward,LinesCapacityReward\n",
    "import numpy as np\n",
    "from Grid2OpOld.grid2op.Chronics import FromNPY\n",
    "from lightsim2grid import LightSimBackend  # highly recommended !\n",
    "from Grid2OpOld.grid2op.Chronics import MultifolderWithCache  # highly recommended for training\n",
    "from Grid2OpOld.grid2op.Backend import PandaPowerBackend \n",
    "from Grid2OpOld.grid2op.Action import BaseAction\n",
    "import time\n",
    "import datetime\n",
    "import random\n",
    "############################\n",
    "from Grid2OpOld.grid2op.Agent import RandomAgent\n",
    "from Grid2OpOld.grid2op.Agent import DoNothingAgent\n",
    "############################\n",
    "\n",
    "backend = PandaPowerBackend()\n",
    "#backend = PandaPowerBackend(with_numba = False)\n",
    "#env = grid2op.make(\"l2rpn_wcci_2022\", reward_class=RedispReward)\n",
    "import networkx as nx\n",
    "\n",
    "env_name = \"l2rpn_case14_sandbox\"\n",
    "#env_name = \"l2rpn_wcci_2022\"\n",
    "#env_name = \"rte_case5_example\"\n",
    "\n",
    "\n",
    "env = Grid2OpOld.grid2op.make(env_name,\n",
    "                   reward_class=LinesCapacityReward,\n",
    "                   backend=backend,\n",
    "                   chronics_class=MultifolderWithCache)\n",
    "\n",
    "\n",
    "# env = Grid2Op.grid2op.make(env_name,\n",
    "#                    reward_class=LinesCapacityReward,\n",
    "#                    backend=backend,\n",
    "#                    action_class=BaseAction,\n",
    "#                    test=False)\n",
    "env.chronics_handler.real_data.set_filter(lambda x: re.match(\".*0$\", x) is not None)\n",
    "env.chronics_handler.real_data.reset()\n",
    "\n",
    "################################\n",
    "my_agent = my_agent\n",
    "\n",
    "################################\n",
    "param = env.parameters\n",
    "param.MAX_LINE_STATUS_CHANGED = 10000\n",
    "param.ENV_DC = True\n",
    "param.NO_OVERFLOW_DISCONNECTION = False\n",
    "param.NB_TIMESTEP_OVERFLOW_ALLOWED = 1\n",
    "env.change_parameters(param)\n",
    "\n",
    "env.set_id(0)\n",
    "env.seed(0)  # for reproducible experiments\n",
    "\n",
    "from Grid2OpOld.grid2op.PlotGrid import PlotMatplot\n",
    "plothelper = PlotMatplot(env.observation_space)\n",
    "\n",
    "episode_count = 1000 # i want to make lots of episode\n",
    "\n",
    "# i initialize some useful variables\n",
    "reward = 0\n",
    "total_reward = np.zeros(episode_count)\n",
    "cascade = np.zeros(episode_count)\n",
    "\n",
    "total_k = np.zeros(episode_count)\n",
    "\n",
    "# act = env.action_space.sample()\n",
    "# print(act)\n",
    "#log = open(\"log.txt\", \"a\") \n",
    "now = datetime.datetime.now()\n",
    "#log.write('************** '+str(now)+'************** '+'\\r\\n')\n",
    "\n",
    "start = time.time()\n",
    "\n",
    "# and now the loop starts\n",
    "# it will only used the chronics selected\n",
    "for i in range(episode_count):\n",
    "    print(\"-------------------case \",i, \"------------------\")\n",
    "\n",
    "    done = False\n",
    "    env.set_id(i)\n",
    "    env.seed(0)\n",
    "    obs = env.reset()\n",
    "    # _ = plothelper.plot_obs(obs)\n",
    "    # 设置初始故障\n",
    "    # cascade = Cascade()\n",
    "    # env.set_id(0)\n",
    "    # obs = env.reset()\n",
    "    # print(f\"initial outage is: {initials[i]}\")\n",
    "    random_number = random.randint(0, 19)\n",
    "    line_id_to_set = [random_number]\n",
    "    new_status = [-1 for i in range(len(line_id_to_set)) ]\n",
    "    act = env.action_space()\n",
    "    act.line_set_status = [[l_id, status] for l_id, status in zip(line_id_to_set, new_status)]\n",
    "    # print(\"the action 'set_status' is \")\n",
    "    # print(\"act_after\",act)\n",
    "    obs, reward, done, info = env.step(act)\n",
    "    if i == 0:\n",
    "        _ = plothelper.plot_obs(obs)#初始故障图\n",
    "       \n",
    "#        log.write('----------case '+str(i)+'-------------'+'\\r\\n')\n",
    "\n",
    "    if not obs:\n",
    "        print(\"system done after initial outages\")\n",
    "        continue\n",
    "    ###################################\n",
    "    # below are the two lines added\n",
    "    # env.fast_forward_chronics(6*i)\n",
    "    # obs = env.get_obs()\n",
    "    # _ = plothelper.plot_obs(obs)\n",
    "    # print(obs.gen_p)\n",
    "    # print('initial outages: ', obs.line_status)\n",
    "    ###################################\n",
    "    \n",
    "    # now play the episode as usual\n",
    "    \n",
    "    print(\"故障线\",obs.name_line[~obs.line_status])\n",
    "    \n",
    "    #训练后的agent的结果\n",
    "    k = 0\n",
    "    while not done:\n",
    "        # print(\"k =  \", k)\n",
    "        k += 1\n",
    "#        log.write('generation k '+str(k)+'\\r\\n')\n",
    "        # act = nn_model.predict(obs)\n",
    "        act = my_agent.act(obs, reward, done)\n",
    "        # if i == 0:\n",
    "        #     print(\"episode1执行的act ============\")\n",
    "        print(act)\n",
    "        obs, reward, done, info = env.step(act)\n",
    "        total_reward[i] += reward\n",
    "        print(\"is done? \", done)\n",
    "        print(\"info exception: \", info['exception'])\n",
    "        if not done: \n",
    "            print(\"训练期间故障线\",obs.name_line[~obs.line_status])\n",
    "#            log.write('line outage '+str(obs.name_line[~obs.line_status])+'\\r\\n')\n",
    "            # if i == 1:\n",
    "            #     _ = plothelper.plot_obs(obs)        \n",
    "            obslast = obs\n",
    "        else:\n",
    "            if i==1:\n",
    "                _ = plothelper.plot_obs(obs)\n",
    "            print(\"第\",i,\"轮结束，总共进行了\",k,\"步\")\n",
    "            print(\"============================\")\n",
    "            total_k[i] = k\n",
    "#    log.write('reward: '+ str(total_reward[i])+'\\r\\n')    \n",
    "#log.write('all rewards: '+str(total_reward)+'\\r\\n')\n",
    "#log.close()\n",
    "print(\"==================================================\")\n",
    "print(\"total rewards: \", total_reward)\n",
    "end = time.time()\n",
    "print('running time: ',end - start)\n"
   ]
  },
  {
   "cell_type": "code",
   "execution_count": null,
   "metadata": {},
   "outputs": [],
   "source": [
    "# initialize hyperparameters\n",
    "######################################\n",
    "import Grid2OpOld.grid2op \n",
    "from Grid2OpOld.grid2op.Reward import FlatReward,LinesCapacityReward\n",
    "import numpy as np\n",
    "from Grid2OpOld.grid2op.Chronics import FromNPY\n",
    "from lightsim2grid import LightSimBackend  # highly recommended !\n",
    "from Grid2OpOld.grid2op.Chronics import MultifolderWithCache  # highly recommended for training\n",
    "from Grid2OpOld.grid2op.Backend import PandaPowerBackend \n",
    "from Grid2OpOld.grid2op.Action import BaseAction\n",
    "import time\n",
    "import datetime\n",
    "import random\n",
    "############################\n",
    "from Grid2OpOld.grid2op.Agent import RandomAgent\n",
    "from Grid2OpOld.grid2op.Agent import DoNothingAgent\n",
    "############################\n",
    "\n",
    "backend = PandaPowerBackend()\n",
    "#backend = PandaPowerBackend(with_numba = False)\n",
    "#env = grid2op.make(\"l2rpn_wcci_2022\", reward_class=RedispReward)\n",
    "import networkx as nx\n",
    "\n",
    "env_name = \"l2rpn_case14_sandbox\"\n",
    "#env_name = \"l2rpn_wcci_2022\"\n",
    "#env_name = \"rte_case5_example\"\n",
    "\n",
    "\n",
    "env = Grid2OpOld.grid2op.make(env_name,\n",
    "                   reward_class=FlatReward,\n",
    "                   backend=backend,\n",
    "                   chronics_class=MultifolderWithCache)\n",
    "\n",
    "\n",
    "# env = Grid2Op.grid2op.make(env_name,\n",
    "#                    reward_class=LinesCapacityReward,\n",
    "#                    backend=backend,\n",
    "#                    action_class=BaseAction,\n",
    "#                    test=False)\n",
    "env.chronics_handler.real_data.set_filter(lambda x: re.match(\".*0$\", x) is not None)\n",
    "env.chronics_handler.real_data.reset()\n",
    "\n",
    "################################\n",
    "bad_agent = DoNothingAgent(env.action_space)\n",
    "\n",
    "################################\n",
    "param = env.parameters\n",
    "param.MAX_LINE_STATUS_CHANGED = 10000\n",
    "param.ENV_DC = True\n",
    "param.NO_OVERFLOW_DISCONNECTION = False\n",
    "param.NB_TIMESTEP_OVERFLOW_ALLOWED = 1\n",
    "env.change_parameters(param)\n",
    "\n",
    "env.set_id(0)\n",
    "env.seed(0)  # for reproducible experiments\n",
    "\n",
    "from Grid2OpOld.grid2op.PlotGrid import PlotMatplot\n",
    "plothelper = PlotMatplot(env.observation_space)\n",
    "\n",
    "episode_count = 1 # i want to make lots of episode\n",
    "\n",
    "# i initialize some useful variables\n",
    "reward = 0\n",
    "total_reward = np.zeros(episode_count)\n",
    "cascade = np.zeros(episode_count)\n",
    "\n",
    "total_k = np.zeros(episode_count)\n",
    "\n",
    "# act = env.action_space.sample()\n",
    "# print(act)\n",
    "#log = open(\"log.txt\", \"a\") \n",
    "now = datetime.datetime.now()\n",
    "#log.write('************** '+str(now)+'************** '+'\\r\\n')\n",
    "\n",
    "start = time.time()\n",
    "\n",
    "# and now the loop starts\n",
    "# it will only used the chronics selected\n",
    "for i in range(episode_count):\n",
    "    print(\"-------------------case \",i, \"------------------\")\n",
    "\n",
    "    done = False\n",
    "    env.set_id(i)\n",
    "    env.seed(0)\n",
    "    obs = env.reset()\n",
    "\n",
    "    # 设置初始故障\n",
    "    cascade = Cascade()\n",
    "    # env.set_id(0)\n",
    "    # obs = env.reset()\n",
    "    # print(f\"initial outage is: {initials[i]}\")\n",
    "    random_number = random.randint(0, 19)\n",
    "\n",
    "    line_id_to_set = initials[random_number]\n",
    "    new_status = [-1 for i in range(len(line_id_to_set)) ]\n",
    "    act = env.action_space()\n",
    "    act.line_set_status = [[l_id, status] for l_id, status in zip(line_id_to_set, new_status)]\n",
    "    # print(\"the action 'set_status' is \")\n",
    "    # print(act)\n",
    "    obs, reward, done, info = env.step(act)\n",
    "    if i == 0:\n",
    "        _ = plothelper.plot_obs(obs)#初始故障图\n",
    "       \n",
    "#        log.write('----------case '+str(i)+'-------------'+'\\r\\n')\n",
    "\n",
    "    if not obs:\n",
    "        print(\"system done after initial outages\")\n",
    "        continue\n",
    "    ###################################\n",
    "    # below are the two lines added\n",
    "    # env.fast_forward_chronics(6*i)\n",
    "    # obs = env.get_obs()\n",
    "    # _ = plothelper.plot_obs(obs)\n",
    "    # print(obs.gen_p)\n",
    "    # print('initial outages: ', obs.line_status)\n",
    "    ###################################\n",
    "    \n",
    "    # now play the episode as usual\n",
    "    \n",
    "    print(\"故障线\",obs.name_line[~obs.line_status])\n",
    "    \n",
    "    #训练后的agent的结果\n",
    "\n",
    "    k = 0\n",
    "    while not done:\n",
    "        print(\"k =  \", k)\n",
    "        k += 1\n",
    "#        log.write('generation k '+str(k)+'\\r\\n')\n",
    "        act = bad_agent.act(obs, reward, done)\n",
    "        if i == 0:\n",
    "            print(\"episode1执行的act\")\n",
    "            print(act)\n",
    "        obs, reward, done, info = env.step(act)\n",
    "        total_reward[i] += reward\n",
    "        print(\"is done? \", done)\n",
    "        print(\"info exception: \", info['exception'])\n",
    "        if not done: \n",
    "            print(\"训练期间故障线\",obs.name_line[~obs.line_status])\n",
    "#            log.write('line outage '+str(obs.name_line[~obs.line_status])+'\\r\\n')\n",
    "            if i == 0:\n",
    "                _ = plothelper.plot_obs(obs)        \n",
    "            obslast = obs\n",
    "        else:\n",
    "            _ = plothelper.plot_obs(obs)\n",
    "            print(\"第\",i,\"轮结束，总共进行了\",k,\"步\")\n",
    "            print(\"============================\")\n",
    "    total_k[i] = k\n",
    "#    log.write('reward: '+ str(total_reward[i])+'\\r\\n')    \n",
    "#log.write('all rewards: '+str(total_reward)+'\\r\\n')\n",
    "#log.close()\n",
    "print(\"==================================================\")\n",
    "print(\"total rewards: \", total_reward)\n",
    "end = time.time()\n",
    "print('running time: ',end - start)\n"
   ]
  },
  {
   "cell_type": "markdown",
   "metadata": {},
   "source": [
    "reward"
   ]
  },
  {
   "cell_type": "markdown",
   "metadata": {},
   "source": [
    "两个图横纵坐标的含义"
   ]
  },
  {
   "cell_type": "code",
   "execution_count": null,
   "metadata": {},
   "outputs": [],
   "source": [
    "import matplotlib.pyplot as plt\n",
    "def plot_reward(x,y,title = \"\"):\n",
    "    plt.figure()\n",
    "    # 使用 Matplotlib 绘制折线图\n",
    "    plt.plot(x, y)\n",
    "    # 添加标题和标签\n",
    "    plt.title(title)\n",
    "    plt.xlabel(\"iter\")\n",
    "    plt.ylabel(\"reward\")\n",
    "    # 显示图形\n",
    "    plt.show()\n"
   ]
  },
  {
   "cell_type": "code",
   "execution_count": null,
   "metadata": {},
   "outputs": [],
   "source": [
    "\n",
    "# reward_values\n",
    "plot_reward(range(len(total_reward)),total_reward,\"1\")"
   ]
  },
  {
   "cell_type": "code",
   "execution_count": null,
   "metadata": {},
   "outputs": [],
   "source": [
    "\n",
    "# reward_values\n",
    "plot_reward(range(len(total_k)),total_k,\"2\")"
   ]
  },
  {
   "cell_type": "code",
   "execution_count": null,
   "metadata": {},
   "outputs": [],
   "source": []
  }
 ],
 "metadata": {
  "kernelspec": {
   "display_name": "test",
   "language": "python",
   "name": "python3"
  },
  "language_info": {
   "codemirror_mode": {
    "name": "ipython",
    "version": 3
   },
   "file_extension": ".py",
   "mimetype": "text/x-python",
   "name": "python",
   "nbconvert_exporter": "python",
   "pygments_lexer": "ipython3",
   "version": "3.8.19"
  }
 },
 "nbformat": 4,
 "nbformat_minor": 2
}

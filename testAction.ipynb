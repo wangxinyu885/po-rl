{
 "cells": [
  {
   "cell_type": "code",
   "execution_count": 1,
   "metadata": {},
   "outputs": [],
   "source": [
    "initial_outages = [1,2,3]\n",
    "def initial_outage_act_2_gym(self, initial_outages, dim_topo, dim_action_space):\n",
    "        dim_set_line_status ,dim_change_line_status,dim_set_bus,dim_change_bus,dim_raise_alarm,\\\n",
    "            dim_raise_alert,dim_sub_set_bus,dim_sub_change_bus,dim_one_sub_set,dim_one_sub_change = \\\n",
    "        [self._env.n_line,self._env.n_line,self._env.dim_topo,self._env.dim_topo,self._env.dim_alarms,self._env.dim_alerts,self._env.n_sub,1,1]\n",
    "        gym_action = np.array([1 for _ in range(dim_action_space)])\n",
    "        for i in initial_outages:\n",
    "            gym_action[dim_topo + i] = 0 \n",
    "        return gym_action"
   ]
  },
  {
   "cell_type": "code",
   "execution_count": null,
   "metadata": {},
   "outputs": [],
   "source": []
  },
  {
   "cell_type": "code",
   "execution_count": null,
   "metadata": {},
   "outputs": [],
   "source": []
  }
 ],
 "metadata": {
  "kernelspec": {
   "display_name": "test",
   "language": "python",
   "name": "python3"
  },
  "language_info": {
   "codemirror_mode": {
    "name": "ipython",
    "version": 3
   },
   "file_extension": ".py",
   "mimetype": "text/x-python",
   "name": "python",
   "nbconvert_exporter": "python",
   "pygments_lexer": "ipython3",
   "version": "3.8.19"
  }
 },
 "nbformat": 4,
 "nbformat_minor": 2
}
